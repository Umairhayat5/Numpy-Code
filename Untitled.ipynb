{
 "cells": [
  {
   "cell_type": "code",
   "execution_count": 2,
   "id": "communist-stake",
   "metadata": {},
   "outputs": [],
   "source": [
    "List = range(20000000)"
   ]
  },
  {
   "cell_type": "code",
   "execution_count": 5,
   "id": "indie-oxide",
   "metadata": {},
   "outputs": [
    {
     "name": "stdout",
     "output_type": "stream",
     "text": [
      "Wall time: 28.9 s\n"
     ]
    }
   ],
   "source": [
    "%time for n in range(1,10): r=[num*5 for num in List]\n",
    "    "
   ]
  },
  {
   "cell_type": "code",
   "execution_count": 6,
   "id": "missing-default",
   "metadata": {},
   "outputs": [],
   "source": [
    "import numpy as np"
   ]
  },
  {
   "cell_type": "code",
   "execution_count": 7,
   "id": "focused-adrian",
   "metadata": {},
   "outputs": [],
   "source": [
    "List2 = np.arange(20000000)"
   ]
  },
  {
   "cell_type": "code",
   "execution_count": null,
   "id": "portable-settle",
   "metadata": {},
   "outputs": [],
   "source": [
    "%time for n "
   ]
  }
 ],
 "metadata": {
  "kernelspec": {
   "display_name": "Python 3",
   "language": "python",
   "name": "python3"
  },
  "language_info": {
   "codemirror_mode": {
    "name": "ipython",
    "version": 3
   },
   "file_extension": ".py",
   "mimetype": "text/x-python",
   "name": "python",
   "nbconvert_exporter": "python",
   "pygments_lexer": "ipython3",
   "version": "3.9.1"
  }
 },
 "nbformat": 4,
 "nbformat_minor": 5
}
